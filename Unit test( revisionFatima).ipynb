{
 "cells": [
  {
   "cell_type": "markdown",
   "id": "bb7e3618-951c-45f6-b174-afb8a790a5a6",
   "metadata": {},
   "source": [
    "#### write a program that compute the factorial of a given positive integer using loops the factorial of 5"
   ]
  },
  {
   "cell_type": "code",
   "execution_count": 121,
   "id": "3bcb691f-3657-466e-81d3-c4a0366c6b31",
   "metadata": {},
   "outputs": [
    {
     "name": "stdin",
     "output_type": "stream",
     "text": [
      "Enter a Number:  3\n"
     ]
    },
    {
     "name": "stdout",
     "output_type": "stream",
     "text": [
      "The factorial of 3 is 6\n"
     ]
    }
   ],
   "source": [
    "s = int(input(\"Enter a Number: \"))\n",
    "factorial = 1\n",
    "if s < 0:\n",
    "    print(\"Factorial does not exist for negative number\")\n",
    "elif s == 0:\n",
    "    print(\"Factorial of zero is 1\")\n",
    "else:\n",
    "    for i in range(1, s + 1):\n",
    "        factorial = factorial * i\n",
    "    print(f\"The factorial of {s} is {factorial}\")"
   ]
  },
  {
   "cell_type": "markdown",
   "id": "98d7d57a-c84a-4305-91e4-f553cfab2d3b",
   "metadata": {},
   "source": [
    "#### Even and Odd Filtering"
   ]
  },
  {
   "cell_type": "code",
   "execution_count": 10,
   "id": "bcb204b5-8b6e-461b-86d9-935612d171d4",
   "metadata": {},
   "outputs": [
    {
     "name": "stdout",
     "output_type": "stream",
     "text": [
      "2 is even\n",
      "4 is even\n",
      "6 is even\n",
      "8 is even\n",
      "10 is even\n",
      "11 is odd and greater than 10\n",
      "12 is even\n",
      "13 is odd and greater than 10\n",
      "14 is even\n",
      "15 is odd and greater than 10\n"
     ]
    }
   ],
   "source": [
    "l = [1,2,3,4,5,6,7,8,9,10,11,12,13,14,15]\n",
    "for num in l:\n",
    "    if num%2 ==0:\n",
    "        print(f\"{num} is even\")\n",
    "    elif num%2 !=0 and num > 10:\n",
    "        print(f\"{num} is odd and greater than 10\")"
   ]
  },
  {
   "cell_type": "markdown",
   "id": "fb7a55da-d148-4d41-a804-90219df6067c",
   "metadata": {},
   "source": [
    "#### write a program that accept a string from the user and print the string in reverse order"
   ]
  },
  {
   "cell_type": "code",
   "execution_count": 5,
   "id": "7affc4c2-5492-4b97-b72c-ab0cb6e73b04",
   "metadata": {},
   "outputs": [
    {
     "name": "stdin",
     "output_type": "stream",
     "text": [
      "Enter a string nitin\n"
     ]
    },
    {
     "name": "stdout",
     "output_type": "stream",
     "text": [
      "reversed string:  nitin\n"
     ]
    }
   ],
   "source": [
    "w = input(\"Enter a string\")\n",
    "reversed_string = w[::-1]\n",
    "print(\"reversed string: \", reversed_string)"
   ]
  },
  {
   "cell_type": "code",
   "execution_count": 126,
   "id": "b2621e65-0dba-4a3d-a7dd-a33e9b1a341f",
   "metadata": {},
   "outputs": [
    {
     "name": "stdin",
     "output_type": "stream",
     "text": [
      "Enter a string:  mom\n"
     ]
    },
    {
     "name": "stdout",
     "output_type": "stream",
     "text": [
      "The reverse of string is: mom\n"
     ]
    }
   ],
   "source": [
    "a = input(\"Enter a string: \")\n",
    "Palindrome = a[::-1]\n",
    "print(f\"The reverse of string is: {Palindrome}\")"
   ]
  },
  {
   "cell_type": "markdown",
   "id": "b1a67e6d-30a1-42c9-8fb7-ef3069764bd9",
   "metadata": {},
   "source": [
    "#### Design a class product with attributes for name, price & quantity. \n",
    "#### include method to display product details and calculate the total price based on quantity"
   ]
  },
  {
   "cell_type": "code",
   "execution_count": 39,
   "id": "0b3f8f5f-9438-484f-a934-b54b601d3371",
   "metadata": {},
   "outputs": [
    {
     "name": "stdout",
     "output_type": "stream",
     "text": [
      "Product Name: Laptop\n",
      "Price per unit: $1000\n",
      "Quantity: 3\n",
      "Total price: $3000\n"
     ]
    }
   ],
   "source": [
    "class Product:\n",
    "    # Constructor to initialize product details\n",
    "    def __init__(self, name, price, quantity):\n",
    "        self.name = name\n",
    "        self.price = price\n",
    "        self.quantity = quantity\n",
    "\n",
    "    # Method to display product details\n",
    "    def display_product_details(self):\n",
    "        print(f\"Product Name: {self.name}\")\n",
    "        print(f\"Price per unit: ${self.price}\")\n",
    "        print(f\"Quantity: {self.quantity}\")\n",
    "\n",
    "    # Method to calculate total price based on quantity\n",
    "    def calculate_total_price(self):\n",
    "        return self.price * self.quantity\n",
    "\n",
    "\n",
    "# Example usage\n",
    "product1 = Product(\"Laptop\", 1000, 3)\n",
    "product1.display_product_details()\n",
    "total_price = product1.calculate_total_price()\n",
    "print(f\"Total price: ${total_price}\")"
   ]
  },
  {
   "cell_type": "markdown",
   "id": "2447fb33-863d-414e-a71e-cd8c1a2a0ba1",
   "metadata": {
    "scrolled": true
   },
   "source": [
    "#### Q5) Given two lists, listA and listB, return a new list that contains:\n",
    "#### a)All elements from listA that are not in listB\n",
    "#### b)All elements from listB that are not in listA\n",
    "#### combine unique elements from both the listA and ListB\n",
    "#### listA = [1, 2, 3, 4, 5]\n",
    "#### listB = [4, 5, 6, 7, 8]"
   ]
  },
  {
   "cell_type": "code",
   "execution_count": 133,
   "id": "ad3a75e3-5139-44bb-a427-5e543a17abf6",
   "metadata": {},
   "outputs": [
    {
     "name": "stdout",
     "output_type": "stream",
     "text": [
      "Combined Unique Elements: [1, 2, 3, 6, 7, 8]\n"
     ]
    }
   ],
   "source": [
    "lA = [1,2,3,4,5]\n",
    "lB = [4,5,6,7,8]\n",
    "unique_in_A = [item for item in lA if item not in lB]\n",
    "unique_in_B = [item for item in lB if item not in lA]\n",
    "\n",
    "result = unique_in_A + unique_in_B \n",
    "print(f\"Combined Unique Elements: {result}\")"
   ]
  },
  {
   "cell_type": "markdown",
   "id": "fb20bc7a-7edf-41fc-bc32-fc23d02af71a",
   "metadata": {},
   "source": [
    "#### Q6) Create a base class called Animal and two derived classes, Dog and Cat. Each derived class should have its own method to display a specific sound, and demonstrate how these methods can be called from an instance of each class.\n"
   ]
  },
  {
   "cell_type": "code",
   "execution_count": 47,
   "id": "c101d33d-0627-41fe-a146-13270c9670f0",
   "metadata": {},
   "outputs": [
    {
     "name": "stdout",
     "output_type": "stream",
     "text": [
      "Buddy says: Woof!\n",
      "Whiskers says: Meow!\n"
     ]
    }
   ],
   "source": [
    "# Base class\n",
    "class Animal:\n",
    "    def __init__(self, name):\n",
    "        self.name = name\n",
    "\n",
    "    def make_sound(self):\n",
    "        pass  # Base class does not implement this method\n",
    "\n",
    "# Derived class for Dog\n",
    "class Dog(Animal):\n",
    "    def make_sound(self):\n",
    "        return \"Woof!\"\n",
    "\n",
    "# Derived class for Cat\n",
    "class Cat(Animal):\n",
    "    def make_sound(self):\n",
    "        return \"Meow!\"\n",
    "\n",
    "# Create instances of Dog and Cat\n",
    "dog = Dog(\"Buddy\")\n",
    "cat = Cat(\"Whiskers\")\n",
    "\n",
    "# Call the make_sound method\n",
    "print(f\"{dog.name} says: {dog.make_sound()}\")\n",
    "print(f\"{cat.name} says: {cat.make_sound()}\")"
   ]
  },
  {
   "cell_type": "code",
   "execution_count": null,
   "id": "54263df4-754c-449a-bb4e-89f79973137e",
   "metadata": {},
   "outputs": [],
   "source": []
  },
  {
   "cell_type": "markdown",
   "id": "4ef3bb84-bc99-415f-860b-c5b2efefbf29",
   "metadata": {},
   "source": [
    "#### Q7) Write a program that prints a pattern of numbers. For example, for an input n, print a pattern like this for n = 4:\n",
    "#### 1\n",
    "#### 22\n",
    "#### 333\n",
    "### 4444"
   ]
  },
  {
   "cell_type": "code",
   "execution_count": 52,
   "id": "6680bc2a-e021-4230-964e-f6d07ab7f9e8",
   "metadata": {},
   "outputs": [
    {
     "name": "stdin",
     "output_type": "stream",
     "text": [
      "Enter a number:  5\n"
     ]
    },
    {
     "name": "stdout",
     "output_type": "stream",
     "text": [
      "1\n",
      "22\n",
      "333\n",
      "4444\n",
      "55555\n"
     ]
    }
   ],
   "source": [
    "def print_number_pattern(n):\n",
    "    for i in range(1, n + 1):\n",
    "        # Print the number i, i times\n",
    "        print(str(i) * i)     # Multiplication of string is concatenation of words i.e combining together.\n",
    "\n",
    "# Example usage\n",
    "n = int(input(\"Enter a number: \"))\n",
    "print_number_pattern(n)"
   ]
  },
  {
   "cell_type": "code",
   "execution_count": 90,
   "id": "39c8cfcf-2ea8-4728-9b75-047d9af217f0",
   "metadata": {},
   "outputs": [
    {
     "name": "stdin",
     "output_type": "stream",
     "text": [
      "enter a number:  7\n"
     ]
    },
    {
     "name": "stdout",
     "output_type": "stream",
     "text": [
      "5040\n"
     ]
    }
   ],
   "source": [
    "# write a program that compute the factorial of a given positive integer using loops the factorial of 5\n",
    "n = int(input(\"enter a number: \"))\n",
    "factorial = 1\n",
    "for i in range(1,n+1):\n",
    "    factorial = i * factorial\n",
    "print(factorial)"
   ]
  },
  {
   "cell_type": "code",
   "execution_count": 96,
   "id": "9d46386f-c632-4fe6-aa89-2c240c582982",
   "metadata": {},
   "outputs": [
    {
     "name": "stdin",
     "output_type": "stream",
     "text": [
      "Enter a string:  nitin\n"
     ]
    },
    {
     "name": "stdout",
     "output_type": "stream",
     "text": [
      "Palindrome\n"
     ]
    }
   ],
   "source": [
    "# Palindrome\n",
    "\n",
    "g = input(\"Enter a string: \")\n",
    "if g == g[::-1]:\n",
    "    print(\"Palindrome\")\n",
    "else:\n",
    "    print(\"not a palindrome\")"
   ]
  },
  {
   "cell_type": "code",
   "execution_count": 108,
   "id": "619b5571-babf-4ddd-9731-78c825a9a798",
   "metadata": {},
   "outputs": [
    {
     "name": "stdout",
     "output_type": "stream",
     "text": [
      "1\n",
      "11\n",
      "111\n",
      "1111\n",
      "11111\n"
     ]
    }
   ],
   "source": [
    "# print the right angle triangle using loop\n",
    "\n",
    "i = 1\n",
    "while i < 6:\n",
    "    print(\"1\" * i)\n",
    "    i = i+1"
   ]
  },
  {
   "cell_type": "code",
   "execution_count": 110,
   "id": "a8b425a6-7c10-4fc6-af73-40650b8c5081",
   "metadata": {},
   "outputs": [
    {
     "name": "stdout",
     "output_type": "stream",
     "text": [
      "******\n",
      "*****\n",
      "****\n",
      "***\n",
      "**\n",
      "*\n"
     ]
    }
   ],
   "source": [
    "i = 6\n",
    "while i>0:\n",
    "    print(\"*\" * i)\n",
    "    i-=1"
   ]
  },
  {
   "cell_type": "code",
   "execution_count": 112,
   "id": "727404a8-27d8-419e-ad67-cf29195384e8",
   "metadata": {},
   "outputs": [
    {
     "name": "stdout",
     "output_type": "stream",
     "text": [
      "1\n",
      "11\n",
      "111\n",
      "1111\n",
      "11111\n"
     ]
    }
   ],
   "source": [
    "for i in range(1,6):\n",
    "    print(\"1\" * i)"
   ]
  },
  {
   "cell_type": "code",
   "execution_count": 118,
   "id": "46c358b3-0aa9-4864-82fc-792f06ccad92",
   "metadata": {},
   "outputs": [
    {
     "name": "stdout",
     "output_type": "stream",
     "text": [
      "*****\n",
      "****\n",
      "***\n",
      "**\n",
      "*\n"
     ]
    }
   ],
   "source": [
    "for i in range(5,0, -1):\n",
    "    print(\"*\" * i)"
   ]
  },
  {
   "cell_type": "code",
   "execution_count": null,
   "id": "81178ce1-22f2-442d-9ffa-59ee5955615b",
   "metadata": {},
   "outputs": [],
   "source": []
  }
 ],
 "metadata": {
  "kernelspec": {
   "display_name": "Python 3 (ipykernel)",
   "language": "python",
   "name": "python3"
  },
  "language_info": {
   "codemirror_mode": {
    "name": "ipython",
    "version": 3
   },
   "file_extension": ".py",
   "mimetype": "text/x-python",
   "name": "python",
   "nbconvert_exporter": "python",
   "pygments_lexer": "ipython3",
   "version": "3.12.4"
  }
 },
 "nbformat": 4,
 "nbformat_minor": 5
}
